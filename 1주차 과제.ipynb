{
  "nbformat": 4,
  "nbformat_minor": 0,
  "metadata": {
    "colab": {
      "name": "Untitled",
      "provenance": [],
      "authorship_tag": "ABX9TyMr7FvqmXZOXovJ12m/1mwn",
      "include_colab_link": true
    },
    "kernelspec": {
      "name": "python3",
      "display_name": "Python 3"
    }
  },
  "cells": [
    {
      "cell_type": "markdown",
      "metadata": {
        "id": "view-in-github",
        "colab_type": "text"
      },
      "source": [
        "<a href=\"https://colab.research.google.com/github/beigedaisy/beigedaisy.github.io/blob/master/1%EC%A3%BC%EC%B0%A8%20%EA%B3%BC%EC%A0%9C.ipynb\" target=\"_parent\"><img src=\"https://colab.research.google.com/assets/colab-badge.svg\" alt=\"Open In Colab\"/></a>"
      ]
    },
    {
      "cell_type": "code",
      "metadata": {
        "id": "eketemuuEWnq",
        "colab_type": "code",
        "colab": {}
      },
      "source": [
        "## 1주체 과제\n",
        "\n",
        "+ 언어 분야   \n",
        "   구글에서 개발한 **'[클라우드 번역기](https://cloud.google.com/translate#section-4)'**.   \n",
        "   선행 학습된 머신러닝 모델을 이용해 여러 언어를 동적으로 번역한다.\n",
        "+ 음성 분야   \n",
        "   아마존에서 개발한 클라우드 기반 음성 서비스 **'[Amazon Alexa](https://developer.amazon.com/en-US/alexa)'**.   \n",
        "   목소리 상호소통, 음악 감상, 할 일 관리, 알람 설정, 팟캐스트 스트리밍, 실시간 일기예보와 교통정보, 뉴스 기능을 제공한다.\n",
        "+ 이미지 분야   \n",
        "   아마존에서 개발한 **'[Amazon Go](https://www.amazon.com/b?ie=UTF8&node=16008589011)'**.   \n",
        "   오프라인 매장에 줄서서 계산하지 않는 쇼핑을 구현한 식료품점이다. 딥 러닝 알고리즘을 활용한 컴퓨터 비전, 센서 퓨전 기술로 소비자가 어떤 상품을 선택했는지 자동으로 감지하고, 앱에 연결된 신용카드로 결제할 수 있다.\n",
        "+ 자율주행 분야   \n",
        "   테슬라가 개발한 자동차 자율주행 기능 **'[Tesla Autopilot](https://www.tesla.com/ko_KR/autopilot?redirect=no)'**.   \n",
        "   360° 관찰과 연산을 위한 고성능 하드웨어와 시야 확보용 신경 회로망과 음파 및 레이더 처리 소프트웨어를 통해 자율주행 기능을 구현해냈다. 시판 중인 제품들은 거친 날씨와 좁고 복잡한 도로에서도 자율주행이 가능하다. 현재 완전 자율 주행을 개발 중이다.\n"
      ],
      "execution_count": 0,
      "outputs": []
    }
  ]
}